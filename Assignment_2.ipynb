{
 "cells": [
  {
   "cell_type": "markdown",
   "metadata": {},
   "source": [
    "> 1.1  \n",
    " Write a Python Program to implement your own myreduce() function which works exactly like Python's built-in function   reduce() "
   ]
  },
  {
   "cell_type": "code",
   "execution_count": 1,
   "metadata": {},
   "outputs": [
    {
     "name": "stdout",
     "output_type": "stream",
     "text": [
      "None\n",
      "3\n",
      "-2\n",
      "asasas\n",
      "378\n",
      "0.014285714285714287\n"
     ]
    }
   ],
   "source": [
    "def my_reduce(f, *args):\n",
    "    if len(args) == 0:\n",
    "        return None\n",
    "    result = args[0]\n",
    "    for i in range(1, len(args)):\n",
    "        result = f(result, args[i])\n",
    "    return result\n",
    "\n",
    "print(my_reduce(lambda x,y: x+y))\n",
    "print(my_reduce(lambda x,y: x+y, 3))\n",
    "print(my_reduce(lambda x,y: x+y, -1, 4, -5))\n",
    "print(my_reduce(lambda x,y: x+y, 'as', 'as', 'as'))\n",
    "print(my_reduce(lambda x,y: x*y, 6, 7, 9))\n",
    "print(my_reduce(lambda x,y: x/y, 4, 5, 7, 8))"
   ]
  },
  {
   "cell_type": "markdown",
   "metadata": {},
   "source": [
    "> 1.2  \n",
    " Write a Python program to implement your own myfilter() function which works exactly like Python's built-in function filter() \n",
    " \n",
    " "
   ]
  },
  {
   "cell_type": "code",
   "execution_count": 2,
   "metadata": {},
   "outputs": [
    {
     "name": "stdout",
     "output_type": "stream",
     "text": [
      "True False True True True True False False "
     ]
    }
   ],
   "source": [
    "def myfilter(lst = []):\n",
    "    for i in lst:\n",
    "        if i%2 == 0:\n",
    "            print(\"True\", end = \" \")\n",
    "        else:\n",
    "            print(\"False\", end = \" \" )\n",
    "        \n",
    "check = [2,5,8,8,4,6,9,5]\n",
    "myfilter(check)\n",
    "    "
   ]
  },
  {
   "cell_type": "markdown",
   "metadata": {},
   "source": [
    "> 2.  \n",
    " Implement List comprehensions to produce the following lists. \n",
    " Write List comprehensions to produce the following Lists:\n",
    " \n",
    " ['A', 'C', 'A', 'D', 'G', 'I', ’L’, ‘ D’]\n",
    " \n",
    " ['x', 'xx', 'xxx', 'xxxx', 'y', 'yy', 'yyy', 'yyyy', 'z', 'zz', 'zzz', 'zzzz']\n",
    " \n",
    " ['x', 'y', 'z', 'xx', 'yy', 'zz', 'xx', 'yy', 'zz', 'xxxx', 'yyyy', 'zzzz']\n",
    " \n",
    " [[2], [3], [4], [3], [4], [5], [4], [5], [6]] \n",
    " \n",
    " [[2, 3, 4, 5], [3, 4, 5, 6], [4, 5, 6, 7], [5, 6, 7, 8]] \n",
    " \n",
    " [(1, 1), (2, 1), (3, 1), (1, 2), (2, 2), (3, 2), (1, 3), (2, 3), (3, 3)] \n",
    " "
   ]
  },
  {
   "cell_type": "code",
   "execution_count": 3,
   "metadata": {},
   "outputs": [
    {
     "data": {
      "text/plain": [
       "['A', 'C', 'A', 'D', 'G', 'I', 'L', 'D']"
      ]
     },
     "execution_count": 3,
     "metadata": {},
     "output_type": "execute_result"
    }
   ],
   "source": [
    "lst = ['A','C','A','D','G','I','L','D']\n",
    "new =  [items for items in lst]\n",
    "new       "
   ]
  },
  {
   "cell_type": "code",
   "execution_count": 4,
   "metadata": {},
   "outputs": [
    {
     "data": {
      "text/plain": [
       "['x', 'xx', 'xxx', 'xxxx', 'y', 'yy', 'yyy', 'yyyy', 'z', 'zz', 'zzz', 'zzzz']"
      ]
     },
     "execution_count": 4,
     "metadata": {},
     "output_type": "execute_result"
    }
   ],
   "source": [
    "lst1 = ['x','xx','xxx','xxxx','y','yy','yyy','yyyy','z','zz','zzz','zzzz']\n",
    "new_1 = [item for item in lst1]\n",
    "new_1"
   ]
  },
  {
   "cell_type": "code",
   "execution_count": 5,
   "metadata": {},
   "outputs": [
    {
     "data": {
      "text/plain": [
       "['x', 'y', 'z', 'xx', 'yy', 'zz', 'xx', 'yy', 'zz', 'xxxx', 'yyyy', 'zzzz']"
      ]
     },
     "execution_count": 5,
     "metadata": {},
     "output_type": "execute_result"
    }
   ],
   "source": [
    "lst2 = ['x', 'y', 'z', 'xx', 'yy', 'zz', 'xx', 'yy', 'zz', 'xxxx', 'yyyy', 'zzzz']\n",
    "new_2 = [ite for ite in lst2]\n",
    "new_2"
   ]
  },
  {
   "cell_type": "code",
   "execution_count": 6,
   "metadata": {},
   "outputs": [
    {
     "data": {
      "text/plain": [
       "[[2], [3], [4], [3], [4], [5], [4], [5], [6]]"
      ]
     },
     "execution_count": 6,
     "metadata": {},
     "output_type": "execute_result"
    }
   ],
   "source": [
    "lst3 = [[2], [3], [4], [3], [4], [5], [4], [5], [6]]\n",
    "new_3 = [it for it in lst3]\n",
    "new_3"
   ]
  },
  {
   "cell_type": "code",
   "execution_count": 7,
   "metadata": {},
   "outputs": [
    {
     "data": {
      "text/plain": [
       "[[2, 3, 4, 5], [3, 4, 5, 6], [4, 5, 6, 7], [5, 6, 7, 8]]"
      ]
     },
     "execution_count": 7,
     "metadata": {},
     "output_type": "execute_result"
    }
   ],
   "source": [
    "li = [ 2, 3, 4, 5]\n",
    "li1 = [3, 4, 5, 6]\n",
    "li2 = [4, 5, 6, 7]\n",
    "li3 = [5, 6, 7, 8]\n",
    "matrix = [li,li1,li2,li3]\n",
    "new_m = [i for i in matrix]\n",
    "new_m"
   ]
  },
  {
   "cell_type": "code",
   "execution_count": 8,
   "metadata": {},
   "outputs": [
    {
     "data": {
      "text/plain": [
       "[(1, 1), (2, 1), (3, 1), (1, 2), (2, 2), (3, 2), (1, 3), (2, 3), (3, 3)]"
      ]
     },
     "execution_count": 8,
     "metadata": {},
     "output_type": "execute_result"
    }
   ],
   "source": [
    "lst4 = [(1, 1), (2, 1), (3, 1), (1, 2), (2, 2), (3, 2), (1, 3), (2, 3), (3, 3)]\n",
    "new_4 = [x for x in lst4]\n",
    "new_4"
   ]
  },
  {
   "cell_type": "markdown",
   "metadata": {},
   "source": [
    "> 3.\n",
    "Implement a function longestWord() that takes a list of words and returns the longest one"
   ]
  },
  {
   "cell_type": "code",
   "execution_count": 9,
   "metadata": {},
   "outputs": [
    {
     "name": "stdout",
     "output_type": "stream",
     "text": [
      "ddvfdvv\n"
     ]
    }
   ],
   "source": [
    "def longestWord(lst =[]):\n",
    "    max = len(lst[0])\n",
    "    tempo = lst[0]\n",
    "    for items in lst:\n",
    "        if(len(items)>= max):\n",
    "            max = len(items)\n",
    "            tempo = items\n",
    "    print(tempo)           \n",
    "check = ['as','am','are','ddvfdvv']\n",
    "longestWord(check)   "
   ]
  },
  {
   "cell_type": "markdown",
   "metadata": {},
   "source": [
    "### Task 2: "
   ]
  },
  {
   "cell_type": "markdown",
   "metadata": {},
   "source": [
    "> 1.1  \n",
    " Write a Python Program(with class concepts) to find the area of the triangle using the below formula. \n",
    " \n",
    "> area = (s*(s-a)*(s-b)*(s-c)) ** 0.5 \n",
    "\n",
    "> Function to take the length of the sides of triangle from user should be defined in the parent class and function to calculate the area should be defined in subclass. "
   ]
  },
  {
   "cell_type": "code",
   "execution_count": 10,
   "metadata": {},
   "outputs": [
    {
     "name": "stdout",
     "output_type": "stream",
     "text": [
      "a = 6.1\n",
      "b = 7.4\n",
      "c = 9.5\n",
      "area : 22.565903482909786\n"
     ]
    }
   ],
   "source": [
    "class triangle:\n",
    "    def __init__(self, a, b, c):\n",
    "        self.a = float(a)\n",
    "        self.b = float(b)\n",
    "        self.c = float(c)\n",
    "        \n",
    "a = float(input(\"a = \"))\n",
    "b = float(input(\"b = \"))\n",
    "c = float(input(\"c = \"))\n",
    "        \n",
    "class area(triangle):\n",
    "    def __init__(self,a,b,c):\n",
    "        super().__init__(a,b,c)\n",
    "        \n",
    "        \n",
    "    def get_area(self):\n",
    "        s = (a + b + c) / 2\n",
    "        return (s*(s-a)*(s-b)*(s-c)) ** 0.5    \n",
    "    \n",
    "t = area(a,b,c)\n",
    "print(\"area : {}\".format(t.get_area()))"
   ]
  },
  {
   "cell_type": "markdown",
   "metadata": {},
   "source": [
    ">  1.2 \n",
    "   Write a function filter_long_words() that takes a list of words and an integer n and returns the list of words that are longer than n. "
   ]
  },
  {
   "cell_type": "code",
   "execution_count": 11,
   "metadata": {},
   "outputs": [
    {
     "name": "stdout",
     "output_type": "stream",
     "text": [
      "['Mruganki']\n"
     ]
    }
   ],
   "source": [
    "def filter_long_words(lst, n):\n",
    "    new = []\n",
    "    for items in lst:\n",
    "        if(len(items) > n):\n",
    "            new.append(items)\n",
    "    print(new)  \n",
    "    \n",
    "check = ['Mruganki','Saksham','Manisha','Omendra']\n",
    "filter_long_words(check, 7)\n",
    "        \n",
    "    "
   ]
  },
  {
   "cell_type": "markdown",
   "metadata": {},
   "source": [
    "> 2.1 \n",
    "  Write a Python program using function concept that maps  list of words into a list of integers representing the lengths of the corresponding words​. \n",
    "\n",
    "> Hint: ​If a list [ ab,cde,erty] is passed on to the python function output should come as [2,3,4] \n",
    "  Here 2,3 and 4 are the lengths of the words in the list. "
   ]
  },
  {
   "cell_type": "code",
   "execution_count": 12,
   "metadata": {},
   "outputs": [
    {
     "name": "stdout",
     "output_type": "stream",
     "text": [
      "Enter the words:- Omendra Manisha Mruganki Saksham Family\n",
      "[7, 7, 8, 7, 6]\n"
     ]
    }
   ],
   "source": [
    "def len_of_words(lst = []):\n",
    "    new = []\n",
    "    for items in lst:  \n",
    "        new.append(len(items))\n",
    "    print(new)\n",
    "    \n",
    "check = input(\"Enter the words:- \")\n",
    "new_lst = check.split(' ')\n",
    "len_of_words(new_lst)"
   ]
  },
  {
   "cell_type": "code",
   "execution_count": null,
   "metadata": {},
   "outputs": [],
   "source": []
  }
 ],
 "metadata": {
  "kernelspec": {
   "display_name": "Python 3",
   "language": "python",
   "name": "python3"
  },
  "language_info": {
   "codemirror_mode": {
    "name": "ipython",
    "version": 3
   },
   "file_extension": ".py",
   "mimetype": "text/x-python",
   "name": "python",
   "nbconvert_exporter": "python",
   "pygments_lexer": "ipython3",
   "version": "3.8.2"
  }
 },
 "nbformat": 4,
 "nbformat_minor": 2
}
